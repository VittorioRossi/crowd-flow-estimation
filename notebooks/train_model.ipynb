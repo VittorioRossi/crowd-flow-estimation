{
 "cells": [
  {
   "cell_type": "code",
   "execution_count": null,
   "id": "03f09a68",
   "metadata": {},
   "outputs": [],
   "source": [
    "from src.data_loader import ShanghaiTechDataset\n",
    "from src.finetune_metrics import train_model\n",
    "from torchvision import transforms"
   ]
  },
  {
   "cell_type": "code",
   "execution_count": null,
   "id": "11f69e25",
   "metadata": {},
   "outputs": [],
   "source": [
    "transform = transforms.Compose([\n",
    "    transforms.Resize((256, 256)),\n",
    "    transforms.ToTensor()\n",
    "])\n"
   ]
  },
  {
   "cell_type": "code",
   "execution_count": null,
   "id": "bbf75560",
   "metadata": {},
   "outputs": [],
   "source": [
    "train_dataset = ShanghaiTechDataset(\"../data/ShanghaiTech\", part=\"part_A\", split=\"train_data\", transform=transform)\n",
    "val_dataset = ShanghaiTechDataset(\"../data/ShanghaiTech\", part=\"part_A\", split=\"test_data\", transform=transform)\n",
    "train_model(train_dataset, val_dataset, epochs=30)"
   ]
  }
 ],
 "metadata": {
  "kernelspec": {
   "display_name": "base",
   "language": "python",
   "name": "python3"
  },
  "language_info": {
   "name": "python",
   "version": "3.11.5"
  }
 },
 "nbformat": 4,
 "nbformat_minor": 5
}
