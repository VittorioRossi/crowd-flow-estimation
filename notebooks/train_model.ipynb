{
 "cells": [
  {
   "cell_type": "code",
   "execution_count": 1,
   "id": "03f09a68",
   "metadata": {},
   "outputs": [],
   "source": [
    "import sys\n",
    "import os\n",
    "# Add project root to sys.path (one directory up from the notebook)\n",
    "project_root = os.path.abspath(os.path.join(os.getcwd(), \"..\"))\n",
    "sys.path.insert(0, project_root)\n",
    "\n",
    "from src.data_loader import ShanghaiTechDataset\n",
    "from src.finetune_metrics import train_model\n",
    "from torchvision import transforms"
   ]
  },
  {
   "cell_type": "code",
   "execution_count": 2,
   "id": "11f69e25",
   "metadata": {},
   "outputs": [],
   "source": [
    "transform = transforms.Compose([\n",
    "    transforms.Resize((256, 256)),\n",
    "    transforms.ToTensor()\n",
    "])"
   ]
  },
  {
   "cell_type": "code",
   "execution_count": 3,
   "id": "bbf75560",
   "metadata": {},
   "outputs": [],
   "source": [
    "train_dataset = ShanghaiTechDataset(\"../data/ShanghaiTech\", part=\"part_A\", split=\"train_data\", transform=transform)\n",
    "val_dataset = ShanghaiTechDataset(\"../data/ShanghaiTech\", part=\"part_A\", split=\"test_data\", transform=transform)"
   ]
  },
  {
   "cell_type": "code",
   "execution_count": null,
   "id": "2e564baf",
   "metadata": {},
   "outputs": [
    {
     "name": "stdout",
     "output_type": "stream",
     "text": [
      "Using Apple Metal Performance Shaders (MPS)\n"
     ]
    },
    {
     "name": "stderr",
     "output_type": "stream",
     "text": [
      "/Users/cola/Desktop/AI/compvis/CV-crowd-flow-estimation-/compvis-proj/lib/python3.13/site-packages/torchvision/models/_utils.py:208: UserWarning: The parameter 'pretrained' is deprecated since 0.13 and may be removed in the future, please use 'weights' instead.\n",
      "  warnings.warn(\n",
      "/Users/cola/Desktop/AI/compvis/CV-crowd-flow-estimation-/compvis-proj/lib/python3.13/site-packages/torchvision/models/_utils.py:223: UserWarning: Arguments other than a weight enum or `None` for 'weights' are deprecated since 0.13 and may be removed in the future. The current behavior is equivalent to passing `weights=ResNet50_Weights.IMAGENET1K_V1`. You can also use `weights=ResNet50_Weights.DEFAULT` to get the most up-to-date weights.\n",
      "  warnings.warn(msg)\n"
     ]
    },
    {
     "name": "stdout",
     "output_type": "stream",
     "text": [
      "Epoch 1/30 - Train MAE: 536.79 - Val MAE: 419.07\n",
      "Epoch 2/30 - Train MAE: 524.00 - Val MAE: 394.39\n",
      "Epoch 3/30 - Train MAE: 505.08 - Val MAE: 374.47\n",
      "Epoch 4/30 - Train MAE: 476.36 - Val MAE: 355.13\n",
      "Epoch 5/30 - Train MAE: 440.34 - Val MAE: 357.79\n",
      "Epoch 6/30 - Train MAE: 396.16 - Val MAE: 279.62\n",
      "Epoch 7/30 - Train MAE: 352.98 - Val MAE: 296.61\n"
     ]
    }
   ],
   "source": [
    "train_model(train_dataset, val_dataset, epochs=30)"
   ]
  }
 ],
 "metadata": {
  "kernelspec": {
   "display_name": "compvis-proj",
   "language": "python",
   "name": "python3"
  },
  "language_info": {
   "codemirror_mode": {
    "name": "ipython",
    "version": 3
   },
   "file_extension": ".py",
   "mimetype": "text/x-python",
   "name": "python",
   "nbconvert_exporter": "python",
   "pygments_lexer": "ipython3",
   "version": "3.13.0"
  }
 },
 "nbformat": 4,
 "nbformat_minor": 5
}
