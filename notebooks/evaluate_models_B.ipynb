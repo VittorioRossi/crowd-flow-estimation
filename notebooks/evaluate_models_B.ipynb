{
 "cells": [
  {
   "cell_type": "code",
   "execution_count": null,
   "id": "7340c12a",
   "metadata": {},
   "outputs": [],
   "source": [
    "import sys\n",
    "import os\n",
    "\n",
    "# Make sure your project root is on PYTHONPATH\n",
    "import sys\n",
    "project_root = os.path.abspath(os.path.join(os.getcwd(), \"..\"))\n",
    "if project_root not in sys.path:\n",
    "    sys.path.insert(0, project_root)\n",
    "\n",
    "\n",
    "from models.resnet50_backbone import Resnet50Backbone\n",
    "from models.vgg_backbone import VGG19BNBackbone\n",
    "\n",
    "from src.data_loader import ShanghaiTechDataset\n",
    "import torch\n",
    "from torch.utils.data import DataLoader\n",
    "from torchvision import transforms\n",
    "import matplotlib.pyplot as plt"
   ]
  },
  {
   "cell_type": "code",
   "execution_count": null,
   "id": "35f0a4b3",
   "metadata": {},
   "outputs": [],
   "source": [
    "# ====== Part B evaluation ======\n",
    "\n",
    "\n",
    "device = torch.device(\"cuda\" if torch.cuda.is_available() else \"cpu\")\n",
    "\n",
    "transform = transforms.Compose([\n",
    "    transforms.Resize((256, 256)),\n",
    "    transforms.ToTensor()\n",
    "])\n",
    "val_dataset_B = ShanghaiTechDataset(\"../data/ShanghaiTech\", part=\"part_B\", split=\"test_data\", transform=transform)\n",
    "val_loader_B = DataLoader(val_dataset_B, batch_size=1)\n",
    "\n",
    "for name, Cls in [(\"resnet50\", ResNet50Backbone),\n",
    "                  (\"vgg19_bn\", VGG19BNBackbone)]:\n",
    "    model = Cls().to(device)\n",
    "    model.load_state_dict(torch.load(f\"../models/part_B_{name}_model.pth\", map_location=device))\n",
    "    model.eval()\n",
    "\n",
    "    mae = mse = 0.0\n",
    "    with torch.no_grad():\n",
    "        for img, count_map in val_loader_B:\n",
    "            img = img.to(device)\n",
    "            count = count_map.sum(dim=(1,2)).unsqueeze(1).float().to(device)\n",
    "            out = model(img)\n",
    "            mae += torch.abs(out - count).item()\n",
    "            mse += ((out - count)**2).item()\n",
    "\n",
    "    mae /= len(val_dataset_B)\n",
    "    rmse = (mse / len(val_dataset_B))**0.5\n",
    "    print(f\"Part B — {name}: MAE = {mae:.3f}, RMSE = {rmse:.3f}\")"
   ]
  }
 ],
 "metadata": {
  "language_info": {
   "name": "python"
  }
 },
 "nbformat": 4,
 "nbformat_minor": 5
}
