{
 "cells": [
  {
   "cell_type": "code",
   "execution_count": 5,
   "id": "f129f3bb",
   "metadata": {},
   "outputs": [
    {
     "name": "stdout",
     "output_type": "stream",
     "text": [
      "Project root: /Users/cola/Desktop/AI/compvis/CV-crowd-flow-estimation-\n"
     ]
    }
   ],
   "source": [
    "import sys\n",
    "import os\n",
    "# Add project root to sys.path (one directory up from the notebook)\n",
    "project_root = os.path.abspath(os.path.join(os.getcwd(), \"..\"))\n",
    "print(f\"Project root: {project_root}\")\n",
    "sys.path.insert(0, project_root)\n",
    "\n",
    "from models.resnet50_backbone import ResNet50Backbone\n",
    "from src.data_loader import ShanghaiTechDataset\n",
    "import torch\n",
    "from torch.utils.data import DataLoader\n",
    "from torchvision import transforms\n"
   ]
  },
  {
   "cell_type": "code",
   "execution_count": 6,
   "id": "4c753fce",
   "metadata": {},
   "outputs": [],
   "source": [
    "\n",
    "model = ResNet50Backbone()\n",
    "model.load_state_dict(torch.load(\"../models/resnet50_finetuned.pth\"))\n",
    "model.eval()\n",
    "\n",
    "transform = transforms.Compose([\n",
    "    transforms.Resize((256, 256)),\n",
    "    transforms.ToTensor()\n",
    "])"
   ]
  },
  {
   "cell_type": "code",
   "execution_count": 7,
   "id": "116c4bbf",
   "metadata": {},
   "outputs": [
    {
     "name": "stdout",
     "output_type": "stream",
     "text": [
      "MAE: 50.430605468870716\n",
      "RMSE: 75.04734026910091\n"
     ]
    }
   ],
   "source": [
    "val_dataset = ShanghaiTechDataset(\"../data/ShanghaiTech\", part=\"part_B\", split=\"test_data\", transform=transform)\n",
    "val_loader = DataLoader(val_dataset, batch_size=1)\n",
    "\n",
    "mae = mse = 0\n",
    "with torch.no_grad():\n",
    "    for img, count_map in val_loader:\n",
    "        count = count_map.sum(dim=(1,2)).unsqueeze(1).float()\n",
    "        output = model(img)\n",
    "        mae += torch.abs(output - count).item()\n",
    "        mse += ((output - count)**2).item()\n",
    "\n",
    "print(\"MAE:\", mae / len(val_dataset))\n",
    "print(\"RMSE:\", (mse / len(val_dataset))**0.5)"
   ]
  }
 ],
 "metadata": {
  "kernelspec": {
   "display_name": "compvis-proj",
   "language": "python",
   "name": "python3"
  },
  "language_info": {
   "codemirror_mode": {
    "name": "ipython",
    "version": 3
   },
   "file_extension": ".py",
   "mimetype": "text/x-python",
   "name": "python",
   "nbconvert_exporter": "python",
   "pygments_lexer": "ipython3",
   "version": "3.13.0"
  }
 },
 "nbformat": 4,
 "nbformat_minor": 5
}
