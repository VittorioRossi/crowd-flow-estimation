{
 "cells": [
  {
   "cell_type": "code",
   "execution_count": 1,
   "id": "f129f3bb",
   "metadata": {},
   "outputs": [
    {
     "name": "stdout",
     "output_type": "stream",
     "text": [
      "Project root: /Users/vittorio/Projects/uni/CV/CV-crowd-flow-estimation-\n"
     ]
    }
   ],
   "source": [
    "import os\n",
    "import sys\n",
    "\n",
    "import torch\n",
    "from torchvision import transforms\n",
    "# Add project root to sys.path (one directory up from the notebook)\n",
    "project_root = os.path.abspath(os.path.join(os.getcwd(), \"..\"))\n",
    "print(f\"Project root: {project_root}\")\n",
    "sys.path.insert(0, project_root)\n",
    "\n",
    "\n",
    "from models.resnet50_backbone import ResNet50Backbone\n",
    "from src.data_loader import ShanghaiTechDataModule"
   ]
  },
  {
   "cell_type": "code",
   "execution_count": 2,
   "id": "4c753fce",
   "metadata": {},
   "outputs": [
    {
     "name": "stderr",
     "output_type": "stream",
     "text": [
      "/opt/homebrew/Caskroom/miniconda/base/lib/python3.12/site-packages/torchvision/models/_utils.py:208: UserWarning: The parameter 'pretrained' is deprecated since 0.13 and may be removed in the future, please use 'weights' instead.\n",
      "  warnings.warn(\n",
      "/opt/homebrew/Caskroom/miniconda/base/lib/python3.12/site-packages/torchvision/models/_utils.py:223: UserWarning: Arguments other than a weight enum or `None` for 'weights' are deprecated since 0.13 and may be removed in the future. The current behavior is equivalent to passing `weights=ResNet50_Weights.IMAGENET1K_V1`. You can also use `weights=ResNet50_Weights.DEFAULT` to get the most up-to-date weights.\n",
      "  warnings.warn(msg)\n"
     ]
    }
   ],
   "source": [
    "\n",
    "model = ResNet50Backbone()\n",
    "model.load_state_dict(torch.load(\"../models/part_A_model.pth\"))\n",
    "model.eval()\n",
    "\n",
    "transform = transforms.Compose([\n",
    "    transforms.Resize((256, 256)),\n",
    "    transforms.ToTensor()\n",
    "])"
   ]
  },
  {
   "cell_type": "code",
   "execution_count": 7,
   "id": "116c4bbf",
   "metadata": {},
   "outputs": [
    {
     "name": "stderr",
     "output_type": "stream",
     "text": [
      "/opt/homebrew/Caskroom/miniconda/base/lib/python3.12/site-packages/torch/utils/data/dataloader.py:683: UserWarning: 'pin_memory' argument is set as true but not supported on MPS now, then device pinned memory won't be used.\n",
      "  warnings.warn(warn_msg)\n"
     ]
    },
    {
     "name": "stdout",
     "output_type": "stream",
     "text": [
      "MAE: 144.8908211844308\n",
      "RMSE: 214.19119877873595\n"
     ]
    }
   ],
   "source": [
    "test_loader = ShanghaiTechDataModule(\n",
    "    \"../data/ShanghaiTech\",\n",
    "    part=\"part_A\",\n",
    ").test_dataloader()\n",
    "\n",
    "\n",
    "mae = mse = 0\n",
    "with torch.no_grad():\n",
    "    for img_batch, count_map_batch in test_loader:\n",
    "        count_batch = count_map_batch.sum(dim=(1, 2)).unsqueeze(1).float()\n",
    "        output_batch = model(img_batch)\n",
    "        mae += torch.sum(torch.abs(output_batch - count_batch)).item()\n",
    "        mse += torch.sum((output_batch - count_batch) ** 2).item()\n",
    "\n",
    "print(\"MAE:\", mae / len(test_loader.dataset))\n",
    "print(\"RMSE:\", (mse / len(test_loader.dataset))**0.5)"
   ]
  },
  {
   "cell_type": "code",
   "execution_count": null,
   "id": "98abe7d6",
   "metadata": {},
   "outputs": [],
   "source": []
  }
 ],
 "metadata": {
  "kernelspec": {
   "display_name": "base",
   "language": "python",
   "name": "python3"
  },
  "language_info": {
   "codemirror_mode": {
    "name": "ipython",
    "version": 3
   },
   "file_extension": ".py",
   "mimetype": "text/x-python",
   "name": "python",
   "nbconvert_exporter": "python",
   "pygments_lexer": "ipython3",
   "version": "3.12.9"
  }
 },
 "nbformat": 4,
 "nbformat_minor": 5
}
