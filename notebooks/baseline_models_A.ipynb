{
  "cells": [
    {
      "cell_type": "code",
      "execution_count": null,
      "id": "1e01398f",
      "metadata": {
        "colab": {
          "base_uri": "https://localhost:8080/"
        },
        "id": "1e01398f",
        "outputId": "c27a13f3-3d80-45d2-e3fe-ce699b9e12fb"
      },
      "outputs": [],
      "source": [
        "from google.colab import drive\n",
        "drive.mount('/content/drive')"
      ]
    },
    {
      "cell_type": "code",
      "execution_count": null,
      "id": "eb6b63d9",
      "metadata": {
        "colab": {
          "base_uri": "https://localhost:8080/"
        },
        "id": "eb6b63d9",
        "outputId": "6f4f2aa3-5823-44b4-b1ea-21dc0d4b336a"
      },
      "outputs": [],
      "source": [
        "%cd '/content/drive/MyDrive/CV-crowd-flow-estimation-/notebooks'\n",
        "!pwd"
      ]
    },
    {
      "cell_type": "code",
      "execution_count": 1,
      "id": "03f09a68",
      "metadata": {
        "id": "03f09a68"
      },
      "outputs": [],
      "source": [
        "import sys\n",
        "import os\n",
        "# Add project root to sys.path (one directory up from the notebook)\n",
        "project_root = os.path.abspath(os.path.join(os.getcwd(), \"..\"))\n",
        "if project_root not in sys.path:\n",
        "    sys.path.insert(0, project_root)\n",
        "\n",
        "from src.data_loader import ShanghaiTechDataModule\n",
        "from src.train import train_model\n",
        "from src.utils import plot_density_predictions, plot_all_decoder_predictions\n",
        "from src.models import get_model"
      ]
    },
    {
      "cell_type": "code",
      "execution_count": 2,
      "id": "f84e5ed0",
      "metadata": {},
      "outputs": [
        {
          "name": "stdout",
          "output_type": "stream",
          "text": [
            "Using Apple MPS\n"
          ]
        }
      ],
      "source": [
        "# 1) Prepare the data\n",
        "data_module = ShanghaiTechDataModule(\n",
        "    data_folder=\"../data/ShanghaiTech\",\n",
        "    part=\"part_A\",\n",
        "    validation_split=0.1,\n",
        "    sigma=5,\n",
        "    return_count=False,\n",
        "    batch_size=8,\n",
        "    num_workers=4,\n",
        "    input_size=(384, 384),\n",
        "    density_map_size=(192, 192),\n",
        ")"
      ]
    },
    {
      "cell_type": "markdown",
      "id": "b678670a",
      "metadata": {
        "id": "b678670a"
      },
      "source": [
        "### Resnet Density Map"
      ]
    },
    {
      "cell_type": "code",
      "execution_count": null,
      "id": "11f69e25",
      "metadata": {
        "colab": {
          "base_uri": "https://localhost:8080/",
          "height": 690
        },
        "id": "11f69e25",
        "outputId": "fcffd87e-0b3a-4cf8-c2e0-539441e4cd9d"
      },
      "outputs": [],
      "source": [
        "model = train_model(\n",
        "    data_module,\n",
        "    model_name=\"resnet50\",\n",
        "    epochs=15,\n",
        "    lr=1e-4,\n",
        "    pretrained=True,\n",
        "    save_path=\"../models/pth/part_A_resnet50_15.pth\"\n",
        ")\n"
      ]
    },
    {
      "cell_type": "code",
      "execution_count": null,
      "id": "a0ccae40",
      "metadata": {},
      "outputs": [],
      "source": [
        "plot_density_predictions(\n",
        "    model,\n",
        "    data_module.test_dataloader(),\n",
        "    device = \"mps\",\n",
        ")"
      ]
    },
    {
      "cell_type": "markdown",
      "id": "d9b47e30",
      "metadata": {
        "id": "d9b47e30"
      },
      "source": [
        "### VGG19bn Density map"
      ]
    },
    {
      "cell_type": "code",
      "execution_count": null,
      "id": "6c07f553",
      "metadata": {
        "colab": {
          "base_uri": "https://localhost:8080/",
          "height": 690
        },
        "id": "6c07f553",
        "outputId": "b46db60c-19e0-44f9-b600-d081a70aa215"
      },
      "outputs": [],
      "source": [
        "# 2) Train the model (15 epochs)\n",
        "model = train_model(\n",
        "    data_module,\n",
        "    model_name=\"vgg19_bn\",\n",
        "    epochs=10,\n",
        "    lr=1e-4,\n",
        "    pretrained=True,\n",
        "    save_path=\"../models/pth/part_A_vgg19.pth\"\n",
        ")\n"
      ]
    },
    {
      "cell_type": "code",
      "execution_count": null,
      "id": "615011cd",
      "metadata": {
        "colab": {
          "base_uri": "https://localhost:8080/",
          "height": 331
        },
        "id": "615011cd",
        "outputId": "9d3c0299-37cd-46a9-e6eb-2767dcdcaa7b"
      },
      "outputs": [],
      "source": [
        "plot_density_predictions(\n",
        "    model,\n",
        "    data_module.test_dataloader(),\n",
        "    device = \"mps\",\n",
        ")"
      ]
    },
    {
      "cell_type": "markdown",
      "id": "a8fb22a4",
      "metadata": {},
      "source": [
        "# Basic u-net"
      ]
    },
    {
      "cell_type": "code",
      "execution_count": null,
      "id": "ca664e22",
      "metadata": {},
      "outputs": [],
      "source": [
        "model = train_model(\n",
        "    data_module,\n",
        "    model_name=\"unet\",\n",
        "    epochs=30,\n",
        "    lr=1e-5,\n",
        "    pretrained=True,\n",
        "    save_path=\"../models/pth/part_A_unet.pth\"\n",
        ")"
      ]
    },
    {
      "cell_type": "code",
      "execution_count": null,
      "id": "4d1ee46c",
      "metadata": {},
      "outputs": [],
      "source": [
        "plot_density_predictions(\n",
        "    model,\n",
        "    data_module.test_dataloader(),\n",
        "    device = \"mps\",\n",
        ")"
      ]
    },
    {
      "cell_type": "code",
      "execution_count": null,
      "id": "32e77bb3",
      "metadata": {},
      "outputs": [],
      "source": [
        "total_params = sum(p.numel() for p in model.parameters())\n",
        "print(f\"Total parameters: {total_params} ({total_params / 1e6:.2f}M)\")"
      ]
    },
    {
      "cell_type": "code",
      "execution_count": null,
      "id": "fd425051",
      "metadata": {},
      "outputs": [],
      "source": [
        "model = get_model(\"unet\",\n",
        "        cpt=\"../models/pth/part_A_unet.pth\", device=\"mps\")[0]"
      ]
    },
    {
      "cell_type": "code",
      "execution_count": null,
      "id": "6e99557b",
      "metadata": {},
      "outputs": [],
      "source": [
        "datloader = data_module.test_dataloader()"
      ]
    },
    {
      "cell_type": "code",
      "execution_count": null,
      "id": "ef21c4b8",
      "metadata": {},
      "outputs": [],
      "source": [
        "plot_all_decoder_predictions(\n",
        "    model, \n",
        "    datloader,\n",
        "    device=\"mps\",\n",
        "    i=2,\n",
        ")"
      ]
    }
  ],
  "metadata": {
    "accelerator": "GPU",
    "colab": {
      "gpuType": "T4",
      "provenance": []
    },
    "kernelspec": {
      "display_name": "base",
      "language": "python",
      "name": "python3"
    },
    "language_info": {
      "codemirror_mode": {
        "name": "ipython",
        "version": 3
      },
      "file_extension": ".py",
      "mimetype": "text/x-python",
      "name": "python",
      "nbconvert_exporter": "python",
      "pygments_lexer": "ipython3",
      "version": "3.12.9"
    }
  },
  "nbformat": 4,
  "nbformat_minor": 5
}
