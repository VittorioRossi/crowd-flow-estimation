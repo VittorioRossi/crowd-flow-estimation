{
 "cells": [
  {
   "cell_type": "code",
   "execution_count": 1,
   "id": "f129f3bb",
   "metadata": {},
   "outputs": [],
   "source": [
    "import sys\n",
    "import os\n",
    "\n",
    "# Make sure your project root is on PYTHONPATH\n",
    "import sys\n",
    "project_root = os.path.abspath(os.path.join(os.getcwd(), \"..\"))\n",
    "if project_root not in sys.path:\n",
    "    sys.path.insert(0, project_root)\n",
    "\n",
    "\n",
    "from src.data_loader import ShanghaiTechDataModule\n",
    "import torch\n",
    "from torch.utils.data import DataLoader\n",
    "from torchvision import transforms\n",
    "from src.utils import get_model, get_device\n"
   ]
  },
  {
   "cell_type": "markdown",
   "id": "5fc9df1d",
   "metadata": {},
   "source": [
    "## RESNET "
   ]
  },
  {
   "cell_type": "code",
   "execution_count": 3,
   "id": "4c753fce",
   "metadata": {},
   "outputs": [
    {
     "name": "stdout",
     "output_type": "stream",
     "text": [
      "Loading checkpoint '/Users/vittorio/Projects/uni/CV/CV-crowd-flow-estimation-/models/pth/part_A_resnet50_15.pth'\n",
      "Checkpoint loaded successfully\n",
      "Part A — resnet34: MAE = 138.598, RMSE = 200.679\n"
     ]
    }
   ],
   "source": [
    "# ====== Part A evaluation (ResNet-50 density-map backbone only) ======\n",
    "device = \"mps\"\n",
    "data_module = ShanghaiTechDataModule(\n",
    "    data_folder=\"../data/ShanghaiTech\",\n",
    "    part=\"part_A\",\n",
    "    validation_split=0.1,\n",
    "    sigma=5,\n",
    "    return_count=False,\n",
    "    batch_size=1,\n",
    "    num_workers=4,\n",
    "    input_size=(384, 384),\n",
    "    density_map_size=(192, 192),\n",
    "    device=device\n",
    ")\n",
    "val_loader_A = data_module.test_dataloader()\n",
    "\n",
    "model = get_model(\"resnet50\",\n",
    "                  cpt=\"/Users/vittorio/Projects/uni/CV/CV-crowd-flow-estimation-/models/pth/part_A_resnet50_15.pth\",\n",
    "                  device=device,\n",
    "                  )[0]\n",
    "model.eval()\n",
    "\n",
    "# Evaluate\n",
    "total_mae = 0.0\n",
    "total_mse = 0.0\n",
    "\n",
    "with torch.no_grad():\n",
    "    for img, gt_density in val_loader_A:\n",
    "        img        = img.to(device)       # B×3×H×W\n",
    "        gt_density = gt_density.to(device)  # B×1×H×W\n",
    "\n",
    "        # True count\n",
    "        gt_count = gt_density.sum(dim=(1,2,3))  # B\n",
    "\n",
    "        # Predicted density and count\n",
    "        pred_density = model(img)               # B×1×H×W\n",
    "        pred_count   = pred_density.sum(dim=(1,2,3))\n",
    "\n",
    "        # Accumulate\n",
    "        total_mae += torch.abs(pred_count - gt_count).sum().item()\n",
    "        total_mse += ((pred_count - gt_count)**2).sum().item()\n",
    "\n",
    "N    = len(val_loader_A)\n",
    "mae  = total_mae / N\n",
    "rmse = (total_mse / N)**0.5\n",
    "\n",
    "print(f\"Part A — resnet34: MAE = {mae:.3f}, RMSE = {rmse:.3f}\")\n"
   ]
  },
  {
   "cell_type": "markdown",
   "id": "760550ee",
   "metadata": {},
   "source": [
    "# VGG encoder"
   ]
  },
  {
   "cell_type": "code",
   "execution_count": null,
   "id": "116c4bbf",
   "metadata": {},
   "outputs": [],
   "source": [
    "model = get_model(\"vgg19_bn\", pretrained=True, cpt=\"../models/pth/part_A_vgg19.pth\")[0]\n",
    "\n",
    "# Evaluate\n",
    "total_mae = 0.0\n",
    "total_mse = 0.0\n",
    "\n",
    "with torch.no_grad():\n",
    "    for img, gt_density in val_loader_A:\n",
    "        img        = img.to(device)       # B×3×H×W\n",
    "        gt_density = gt_density.to(device)  # B×1×H×W\n",
    "\n",
    "        # True count\n",
    "        gt_count = gt_density.sum(dim=(1,2,3))  # B\n",
    "\n",
    "        # Predicted density and count\n",
    "        pred_density = model(img)               # B×1×H×W\n",
    "        pred_count   = pred_density.sum(dim=(1,2,3))\n",
    "\n",
    "        # Accumulate\n",
    "        total_mae += torch.abs(pred_count - gt_count).sum().item()\n",
    "        total_mse += ((pred_count - gt_count)**2).sum().item()\n",
    "\n",
    "N    = len(val_loader_A)\n",
    "mae  = total_mae / N\n",
    "rmse = (total_mse / N)**0.5\n",
    "\n",
    "print(f\"Part A — VGG19bn: MAE = {mae:.3f}, RMSE = {rmse:.3f}\")"
   ]
  }
 ],
 "metadata": {
  "kernelspec": {
   "display_name": "base",
   "language": "python",
   "name": "python3"
  },
  "language_info": {
   "codemirror_mode": {
    "name": "ipython",
    "version": 3
   },
   "file_extension": ".py",
   "mimetype": "text/x-python",
   "name": "python",
   "nbconvert_exporter": "python",
   "pygments_lexer": "ipython3",
   "version": "3.11.5"
  }
 },
 "nbformat": 4,
 "nbformat_minor": 5
}
